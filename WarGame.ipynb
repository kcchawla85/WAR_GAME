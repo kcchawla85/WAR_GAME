{
 "cells": [
  {
   "cell_type": "code",
   "execution_count": 1,
   "metadata": {},
   "outputs": [],
   "source": [
    "#importing libraries\n",
    "import random\n",
    "import pdb"
   ]
  },
  {
   "cell_type": "code",
   "execution_count": 2,
   "metadata": {},
   "outputs": [],
   "source": [
    "#creating raking and naming suites\n",
    "suits = ('Hearts','Diamonds', 'Spades', 'Clubs')\n",
    "ranks= ('Two','Three', 'Four', 'Five', 'Six', 'Seven', 'Eight', 'Nine', 'Ten', 'Jack', 'Queen', 'King', 'Ace')\n",
    "values= {'Two':2,'Three':3, 'Four':4, 'Five':5, 'Six':6, 'Seven':7, 'Eight':8, \n",
    "            'Nine':9, 'Ten':10, 'Jack':11, 'Queen':12, 'King':13, 'Ace':14} "
   ]
  },
  {
   "cell_type": "code",
   "execution_count": 3,
   "metadata": {},
   "outputs": [],
   "source": [
    "#creating Card Class\n",
    "class Card:\n",
    "    def __init__(self,suit,rank):\n",
    "        self.suit = suit\n",
    "        self.rank = rank\n",
    "        self.value= values[rank]\n",
    "    def __str__(self):\n",
    "        return self.rank + ' of ' + self.suit"
   ]
  },
  {
   "cell_type": "code",
   "execution_count": 4,
   "metadata": {},
   "outputs": [
    {
     "name": "stdout",
     "output_type": "stream",
     "text": [
      "Two of Hearts\n"
     ]
    }
   ],
   "source": [
    "#testing card class\n",
    "suits[0]\n",
    "ranks[0]\n",
    "two_heart = Card(suits[0], ranks[0])\n",
    "two_heart\n",
    "print(two_heart)"
   ]
  },
  {
   "cell_type": "code",
   "execution_count": 5,
   "metadata": {},
   "outputs": [],
   "source": [
    "#creating deck class\n",
    "class Deck:\n",
    "    def __init__ (self):\n",
    "        self.all_card = []\n",
    "        for suit in suits:\n",
    "            for rank in ranks:\n",
    "                self.all_card.append(Card(suit,rank))\n",
    "    def shuffle(self):\n",
    "        random.shuffle(self.all_card)\n",
    "    def deal_one(self):\n",
    "        return self.all_card.pop()"
   ]
  },
  {
   "cell_type": "code",
   "execution_count": 6,
   "metadata": {},
   "outputs": [
    {
     "data": {
      "text/plain": [
       "52"
      ]
     },
     "execution_count": 6,
     "metadata": {},
     "output_type": "execute_result"
    }
   ],
   "source": [
    "#testing deck class\n",
    "mydeck=Deck()\n",
    "len(mydeck.all_card)"
   ]
  },
  {
   "cell_type": "code",
   "execution_count": 7,
   "metadata": {},
   "outputs": [
    {
     "name": "stdout",
     "output_type": "stream",
     "text": [
      "Two of Hearts\n"
     ]
    }
   ],
   "source": [
    "print(mydeck.all_card[0])"
   ]
  },
  {
   "cell_type": "code",
   "execution_count": 8,
   "metadata": {},
   "outputs": [],
   "source": [
    "mydeck.shuffle()"
   ]
  },
  {
   "cell_type": "code",
   "execution_count": 9,
   "metadata": {},
   "outputs": [
    {
     "name": "stdout",
     "output_type": "stream",
     "text": [
      "Ace of Hearts\n"
     ]
    }
   ],
   "source": [
    "print(mydeck.all_card[0])"
   ]
  },
  {
   "cell_type": "code",
   "execution_count": 10,
   "metadata": {},
   "outputs": [],
   "source": [
    "#creating player class\n",
    "class Player:\n",
    "    def __init__(self,name):\n",
    "        self.name = name\n",
    "        self.all_card =[]\n",
    "    def remove_one(self):\n",
    "        return self.all_card.pop(0)\n",
    "    def add_cards(self,new_cards):\n",
    "        if type(new_cards)== type([]):\n",
    "            self.all_card.extend(new_cards)\n",
    "        else:\n",
    "            self.all_card.append(new_cards)\n",
    "    def __str__(self):\n",
    "        return f'Player {self.name} has {len(self.all_card)} cards'"
   ]
  },
  {
   "cell_type": "code",
   "execution_count": 11,
   "metadata": {},
   "outputs": [],
   "source": [
    "#testing class player\n",
    "jose = Player(\"Jose\")"
   ]
  },
  {
   "cell_type": "code",
   "execution_count": 12,
   "metadata": {},
   "outputs": [
    {
     "data": {
      "text/plain": [
       "<__main__.Player at 0x21e35160d60>"
      ]
     },
     "execution_count": 12,
     "metadata": {},
     "output_type": "execute_result"
    }
   ],
   "source": [
    "jose"
   ]
  },
  {
   "cell_type": "code",
   "execution_count": 13,
   "metadata": {},
   "outputs": [
    {
     "name": "stdout",
     "output_type": "stream",
     "text": [
      "Player Jose has 0 cards\n"
     ]
    }
   ],
   "source": [
    "print(jose)"
   ]
  },
  {
   "cell_type": "code",
   "execution_count": 14,
   "metadata": {},
   "outputs": [],
   "source": [
    "#war game logic building\n",
    "Player_one = Player(\"One\")\n",
    "Player_two = Player(\"Two\")"
   ]
  },
  {
   "cell_type": "code",
   "execution_count": 16,
   "metadata": {},
   "outputs": [
    {
     "data": {
      "text/plain": [
       "<bound method Deck.shuffle of <__main__.Deck object at 0x0000021E35D579D0>>"
      ]
     },
     "execution_count": 16,
     "metadata": {},
     "output_type": "execute_result"
    }
   ],
   "source": [
    "#setup a new game\n",
    "new_deck=Deck()\n",
    "new_deck.shuffle"
   ]
  },
  {
   "cell_type": "code",
   "execution_count": 17,
   "metadata": {},
   "outputs": [
    {
     "data": {
      "text/plain": [
       "26.0"
      ]
     },
     "execution_count": 17,
     "metadata": {},
     "output_type": "execute_result"
    }
   ],
   "source": [
    "len(new_deck.all_card)/2"
   ]
  },
  {
   "cell_type": "code",
   "execution_count": 18,
   "metadata": {},
   "outputs": [],
   "source": [
    "for i in range(26):\n",
    "    Player_one.add_cards(new_deck.deal_one())\n",
    "    Player_two.add_cards(new_deck.deal_one())"
   ]
  },
  {
   "cell_type": "code",
   "execution_count": 19,
   "metadata": {},
   "outputs": [
    {
     "data": {
      "text/plain": [
       "26"
      ]
     },
     "execution_count": 19,
     "metadata": {},
     "output_type": "execute_result"
    }
   ],
   "source": [
    "len(Player_one.all_card)"
   ]
  },
  {
   "cell_type": "code",
   "execution_count": 20,
   "metadata": {},
   "outputs": [],
   "source": [
    "#playing game\n",
    "game_on = True\n",
    "round_num= 0"
   ]
  },
  {
   "cell_type": "code",
   "execution_count": 22,
   "metadata": {},
   "outputs": [
    {
     "name": "stdout",
     "output_type": "stream",
     "text": [
      "Round2\n",
      "Round3\n",
      "Round4\n",
      "Round5\n",
      "Round6\n",
      "Round7\n",
      "Round8\n",
      "Round9\n",
      "Round10\n",
      "Round11\n",
      "Round12\n",
      "Round13\n",
      "Round14\n",
      "Round15\n",
      "Round16\n",
      "Round17\n",
      "Round18\n",
      "Round19\n",
      "Round20\n",
      "Round21\n",
      "Round22\n",
      "Round23\n",
      "Round24\n",
      "Round25\n",
      "Round26\n",
      "Round27\n",
      "Round28\n",
      "Round29\n",
      "Round30\n",
      "Round31\n",
      "Round32\n",
      "Round33\n",
      "Round34\n",
      "Round35\n",
      "Round36\n",
      "Round37\n",
      "Round38\n",
      "Round39\n",
      "Round40\n",
      "Round41\n",
      "Round42\n",
      "Round43\n",
      "Round44\n",
      "Round45\n",
      "Round46\n",
      "Round47\n",
      "Round48\n",
      "Round49\n",
      "Round50\n",
      "War!\n",
      "Round51\n",
      "Round52\n",
      "Round53\n",
      "Round54\n",
      "Round55\n",
      "Round56\n",
      "Round57\n",
      "Round58\n",
      "Round59\n",
      "Round60\n",
      "Round61\n",
      "Round62\n",
      "Round63\n",
      "Round64\n",
      "Round65\n",
      "Round66\n",
      "Round67\n",
      "Round68\n",
      "Round69\n",
      "Round70\n",
      "Round71\n",
      "Round72\n",
      "Round73\n",
      "Round74\n",
      "Round75\n",
      "Round76\n",
      "Round77\n",
      "Round78\n",
      "Round79\n",
      "Round80\n",
      "Round81\n",
      "Round82\n",
      "Round83\n",
      "War!\n",
      "Player Two unable to play war! Game Over at War\n",
      "Player One Wins! Player One Loses!\n"
     ]
    }
   ],
   "source": [
    "while game_on:\n",
    "    round_num +=1\n",
    "    print(f\"Round{round_num}\")\n",
    "    #check to see if a player is out of cards:\n",
    "    if len(Player_one.all_card)==0:\n",
    "        print(\"Player one is out of Cards! Game Over\")\n",
    "        print(\"Player Two Wins!!\")\n",
    "        game_on=False\n",
    "        break\n",
    "    if len(Player_two.all_card)==0:\n",
    "        print(\"Player two is out of Cards! Game Over\")\n",
    "        print(\"Player One Wins!!\")\n",
    "        game_on=False\n",
    "        break\n",
    "    #otherwise the game is still on!\n",
    "    #start a new round and rest current cards \"on the table\"\n",
    "    Player_one_cards = []\n",
    "    Player_one_cards.append(Player_one.remove_one())\n",
    "    Player_Two_cards = []\n",
    "    Player_Two_cards.append(Player_two.remove_one())\n",
    "    at_war = True\n",
    "\n",
    "    while at_war:\n",
    "        if Player_one_cards[-1].value > Player_Two_cards[-1].value:\n",
    "            Player_one.add_cards(Player_one_cards)\n",
    "            Player_one.add_cards(Player_Two_cards)\n",
    "\n",
    "            at_war = False\n",
    "        elif Player_one_cards[-1].value < Player_Two_cards[-1].value:\n",
    "\n",
    "            # Player Two gets the cards\n",
    "            Player_two.add_cards(Player_one_cards)\n",
    "            Player_two.add_cards(Player_Two_cards)\n",
    "            \n",
    "            # No Longer at \"war\" , time for next round\n",
    "            at_war = False\n",
    "        else:\n",
    "            print('War!')\n",
    "            #this occurs when the cards are equal\n",
    "            #we'll grab another card each and continue the current user\n",
    "            #first check to see if player has enough cards\n",
    "            #check to see if a player is out of cards:\n",
    "            if len(Player_one.all_card)<5:\n",
    "                print(\"Player One unable to play! Game over at War!\")\n",
    "                print(\"Player Two Wins! Player one Loses!\")\n",
    "                game_on = False\n",
    "                break\n",
    "            elif len(Player_two.all_card) < 5:\n",
    "                print(\"Player Two unable to play war! Game Over at War\")\n",
    "                print(\"Player One Wins! Player One Loses!\")\n",
    "                game_on = False\n",
    "                break\n",
    "            else:\n",
    "                 for num in range(5):\n",
    "                    Player_one_cards.append(Player_one.remove_one())\n",
    "                    Player_Two_cards.append(Player_two.remove_one())\n"
   ]
  }
 ],
 "metadata": {
  "interpreter": {
   "hash": "431036f8282f4d4674e25db19953221ab83d7c935d45524c20433a3dcc306f9a"
  },
  "kernelspec": {
   "display_name": "Python 3.8.8 ('base')",
   "language": "python",
   "name": "python3"
  },
  "language_info": {
   "codemirror_mode": {
    "name": "ipython",
    "version": 3
   },
   "file_extension": ".py",
   "mimetype": "text/x-python",
   "name": "python",
   "nbconvert_exporter": "python",
   "pygments_lexer": "ipython3",
   "version": "3.8.8"
  },
  "orig_nbformat": 4
 },
 "nbformat": 4,
 "nbformat_minor": 2
}
